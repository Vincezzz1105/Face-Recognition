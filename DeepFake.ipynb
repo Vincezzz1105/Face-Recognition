{
  "cells": [
    {
      "cell_type": "code",
      "execution_count": null,
      "metadata": {
        "colab": {
          "base_uri": "https://localhost:8080/"
        },
        "id": "MgfhR0X6xTtg",
        "outputId": "6b5a44b0-5ba8-4386-a95d-e24cc66b75ef"
      },
      "outputs": [
        {
          "output_type": "stream",
          "name": "stdout",
          "text": [
            "Mounted at /content/drive\n"
          ]
        }
      ],
      "source": [
        "from google.colab import drive\n",
        "drive.mount('/content/drive')"
      ]
    },
    {
      "cell_type": "code",
      "execution_count": null,
      "metadata": {
        "id": "a_UUaQy3WUyT"
      },
      "outputs": [],
      "source": [
        "import torch\n",
        "import torch.nn as nn\n",
        "import torch.nn.functional as F\n",
        "\n",
        "import matplotlib.pyplot as plt # for plotting\n",
        "import torch.optim as optim #for gradient descent\n",
        "import numpy as np\n",
        "import time\n",
        "import torch\n",
        "import torch.nn as nn\n",
        "import torch.nn.functional as F\n",
        "import torch.optim as optim\n",
        "import torchvision\n",
        "from torch.utils.data.sampler import SubsetRandomSampler\n",
        "import torchvision.transforms as transforms\n",
        "import matplotlib.pyplot as plt\n",
        "import tensorflow as tf\n",
        "from tensorflow.keras.models import Model\n",
        "from tensorflow.keras.layers import Dense, GlobalAveragePooling2D\n",
        "from tensorflow.keras.preprocessing.image import ImageDataGenerator"
      ]
    },
    {
      "cell_type": "markdown",
      "metadata": {
        "id": "bxGfwdAzwJNA"
      },
      "source": [
        "https://www.kaggle.com/discussions/general/74235\n",
        "follow instructions"
      ]
    },
    {
      "cell_type": "code",
      "execution_count": null,
      "metadata": {
        "colab": {
          "base_uri": "https://localhost:8080/",
          "height": 92
        },
        "id": "UNz0lB7os-ZD",
        "outputId": "a5cca272-e38d-40f1-ae77-8cd908084cb1"
      },
      "outputs": [
        {
          "output_type": "display_data",
          "data": {
            "text/plain": [
              "<IPython.core.display.HTML object>"
            ],
            "text/html": [
              "\n",
              "     <input type=\"file\" id=\"files-6a59f22e-eba3-49d9-977a-8676bd9f8ada\" name=\"files[]\" multiple disabled\n",
              "        style=\"border:none\" />\n",
              "     <output id=\"result-6a59f22e-eba3-49d9-977a-8676bd9f8ada\">\n",
              "      Upload widget is only available when the cell has been executed in the\n",
              "      current browser session. Please rerun this cell to enable.\n",
              "      </output>\n",
              "      <script>// Copyright 2017 Google LLC\n",
              "//\n",
              "// Licensed under the Apache License, Version 2.0 (the \"License\");\n",
              "// you may not use this file except in compliance with the License.\n",
              "// You may obtain a copy of the License at\n",
              "//\n",
              "//      http://www.apache.org/licenses/LICENSE-2.0\n",
              "//\n",
              "// Unless required by applicable law or agreed to in writing, software\n",
              "// distributed under the License is distributed on an \"AS IS\" BASIS,\n",
              "// WITHOUT WARRANTIES OR CONDITIONS OF ANY KIND, either express or implied.\n",
              "// See the License for the specific language governing permissions and\n",
              "// limitations under the License.\n",
              "\n",
              "/**\n",
              " * @fileoverview Helpers for google.colab Python module.\n",
              " */\n",
              "(function(scope) {\n",
              "function span(text, styleAttributes = {}) {\n",
              "  const element = document.createElement('span');\n",
              "  element.textContent = text;\n",
              "  for (const key of Object.keys(styleAttributes)) {\n",
              "    element.style[key] = styleAttributes[key];\n",
              "  }\n",
              "  return element;\n",
              "}\n",
              "\n",
              "// Max number of bytes which will be uploaded at a time.\n",
              "const MAX_PAYLOAD_SIZE = 100 * 1024;\n",
              "\n",
              "function _uploadFiles(inputId, outputId) {\n",
              "  const steps = uploadFilesStep(inputId, outputId);\n",
              "  const outputElement = document.getElementById(outputId);\n",
              "  // Cache steps on the outputElement to make it available for the next call\n",
              "  // to uploadFilesContinue from Python.\n",
              "  outputElement.steps = steps;\n",
              "\n",
              "  return _uploadFilesContinue(outputId);\n",
              "}\n",
              "\n",
              "// This is roughly an async generator (not supported in the browser yet),\n",
              "// where there are multiple asynchronous steps and the Python side is going\n",
              "// to poll for completion of each step.\n",
              "// This uses a Promise to block the python side on completion of each step,\n",
              "// then passes the result of the previous step as the input to the next step.\n",
              "function _uploadFilesContinue(outputId) {\n",
              "  const outputElement = document.getElementById(outputId);\n",
              "  const steps = outputElement.steps;\n",
              "\n",
              "  const next = steps.next(outputElement.lastPromiseValue);\n",
              "  return Promise.resolve(next.value.promise).then((value) => {\n",
              "    // Cache the last promise value to make it available to the next\n",
              "    // step of the generator.\n",
              "    outputElement.lastPromiseValue = value;\n",
              "    return next.value.response;\n",
              "  });\n",
              "}\n",
              "\n",
              "/**\n",
              " * Generator function which is called between each async step of the upload\n",
              " * process.\n",
              " * @param {string} inputId Element ID of the input file picker element.\n",
              " * @param {string} outputId Element ID of the output display.\n",
              " * @return {!Iterable<!Object>} Iterable of next steps.\n",
              " */\n",
              "function* uploadFilesStep(inputId, outputId) {\n",
              "  const inputElement = document.getElementById(inputId);\n",
              "  inputElement.disabled = false;\n",
              "\n",
              "  const outputElement = document.getElementById(outputId);\n",
              "  outputElement.innerHTML = '';\n",
              "\n",
              "  const pickedPromise = new Promise((resolve) => {\n",
              "    inputElement.addEventListener('change', (e) => {\n",
              "      resolve(e.target.files);\n",
              "    });\n",
              "  });\n",
              "\n",
              "  const cancel = document.createElement('button');\n",
              "  inputElement.parentElement.appendChild(cancel);\n",
              "  cancel.textContent = 'Cancel upload';\n",
              "  const cancelPromise = new Promise((resolve) => {\n",
              "    cancel.onclick = () => {\n",
              "      resolve(null);\n",
              "    };\n",
              "  });\n",
              "\n",
              "  // Wait for the user to pick the files.\n",
              "  const files = yield {\n",
              "    promise: Promise.race([pickedPromise, cancelPromise]),\n",
              "    response: {\n",
              "      action: 'starting',\n",
              "    }\n",
              "  };\n",
              "\n",
              "  cancel.remove();\n",
              "\n",
              "  // Disable the input element since further picks are not allowed.\n",
              "  inputElement.disabled = true;\n",
              "\n",
              "  if (!files) {\n",
              "    return {\n",
              "      response: {\n",
              "        action: 'complete',\n",
              "      }\n",
              "    };\n",
              "  }\n",
              "\n",
              "  for (const file of files) {\n",
              "    const li = document.createElement('li');\n",
              "    li.append(span(file.name, {fontWeight: 'bold'}));\n",
              "    li.append(span(\n",
              "        `(${file.type || 'n/a'}) - ${file.size} bytes, ` +\n",
              "        `last modified: ${\n",
              "            file.lastModifiedDate ? file.lastModifiedDate.toLocaleDateString() :\n",
              "                                    'n/a'} - `));\n",
              "    const percent = span('0% done');\n",
              "    li.appendChild(percent);\n",
              "\n",
              "    outputElement.appendChild(li);\n",
              "\n",
              "    const fileDataPromise = new Promise((resolve) => {\n",
              "      const reader = new FileReader();\n",
              "      reader.onload = (e) => {\n",
              "        resolve(e.target.result);\n",
              "      };\n",
              "      reader.readAsArrayBuffer(file);\n",
              "    });\n",
              "    // Wait for the data to be ready.\n",
              "    let fileData = yield {\n",
              "      promise: fileDataPromise,\n",
              "      response: {\n",
              "        action: 'continue',\n",
              "      }\n",
              "    };\n",
              "\n",
              "    // Use a chunked sending to avoid message size limits. See b/62115660.\n",
              "    let position = 0;\n",
              "    do {\n",
              "      const length = Math.min(fileData.byteLength - position, MAX_PAYLOAD_SIZE);\n",
              "      const chunk = new Uint8Array(fileData, position, length);\n",
              "      position += length;\n",
              "\n",
              "      const base64 = btoa(String.fromCharCode.apply(null, chunk));\n",
              "      yield {\n",
              "        response: {\n",
              "          action: 'append',\n",
              "          file: file.name,\n",
              "          data: base64,\n",
              "        },\n",
              "      };\n",
              "\n",
              "      let percentDone = fileData.byteLength === 0 ?\n",
              "          100 :\n",
              "          Math.round((position / fileData.byteLength) * 100);\n",
              "      percent.textContent = `${percentDone}% done`;\n",
              "\n",
              "    } while (position < fileData.byteLength);\n",
              "  }\n",
              "\n",
              "  // All done.\n",
              "  yield {\n",
              "    response: {\n",
              "      action: 'complete',\n",
              "    }\n",
              "  };\n",
              "}\n",
              "\n",
              "scope.google = scope.google || {};\n",
              "scope.google.colab = scope.google.colab || {};\n",
              "scope.google.colab._files = {\n",
              "  _uploadFiles,\n",
              "  _uploadFilesContinue,\n",
              "};\n",
              "})(self);\n",
              "</script> "
            ]
          },
          "metadata": {}
        },
        {
          "output_type": "stream",
          "name": "stdout",
          "text": [
            "Saving kaggle.json to kaggle.json\n"
          ]
        },
        {
          "output_type": "execute_result",
          "data": {
            "text/plain": [
              "{'kaggle.json': b'{\"username\":\"cecilia0999\",\"key\":\"cc1406dbb42304ade9f37c8885076ba5\"}'}"
            ]
          },
          "metadata": {},
          "execution_count": 3
        }
      ],
      "source": [
        "! pip install -q kaggle\n",
        "from google.colab import files\n",
        "files.upload()\n",
        "#kaggle datasets download -d tusharpadhy/deepfake-dataset"
      ]
    },
    {
      "cell_type": "code",
      "execution_count": null,
      "metadata": {
        "colab": {
          "base_uri": "https://localhost:8080/"
        },
        "id": "Ur8G2lCPuc-p",
        "outputId": "a4545c34-b779-4dbe-af9b-b96c222d398f"
      },
      "outputs": [
        {
          "output_type": "stream",
          "name": "stdout",
          "text": [
            "Warning: Looks like you're using an outdated API Version, please consider updating (server 1.6.7 / client 1.5.16)\n",
            "ref                                                                     title                                               size  lastUpdated          downloadCount  voteCount  usabilityRating  \n",
            "----------------------------------------------------------------------  -------------------------------------------------  -----  -------------------  -------------  ---------  ---------------  \n",
            "sudarshan24byte/online-food-dataset                                     Online Food Dataset                                  3KB  2024-03-02 18:50:30          14860        305  0.9411765        \n",
            "kanchana1990/world-air-quality-data-2024-updated                        World Air Quality Data 2024 (Updated)                2MB  2024-03-25 15:10:07           1465         40  1.0              \n",
            "sukhmandeepsinghbrar/car-price-prediction-dataset                       Car Price Prediction Dataset                       141KB  2024-03-28 08:27:39            638         25  1.0              \n",
            "prishasawhney/imdb-dataset-top-2000-movies                              IMDB Dataset (Top 2000 movies)                      75KB  2024-03-27 18:51:36            619         22  1.0              \n",
            "syedanwarafridi/vehicle-sales-data                                      Vehicle Sales Data                                  19MB  2024-02-21 20:16:17          22439        370  1.0              \n",
            "bhavikjikadara/student-study-performance                                Student Study Performance                            9KB  2024-03-07 06:14:09           7677        112  1.0              \n",
            "lovishbansal123/sales-of-a-supermarket                                  Sales of a Supermarket                              36KB  2024-03-26 12:38:06           1489         30  1.0              \n",
            "sukhmandeepsinghbrar/biggest-companies-by-market-cap-and-their-revenue  Biggest Companies by Market Cap and Their Revenue    8KB  2024-03-27 10:18:06            540         25  1.0              \n",
            "sahirmaharajj/fuel-economy                                              Vehicle Fuel Economy                                 1MB  2024-03-20 18:27:18           1382         34  1.0              \n",
            "sukhmandeepsinghbrar/total-worldwide-passenger-cars-sales               Total Worldwide Passenger Cars Sales                 8KB  2024-03-25 16:32:42            829         29  1.0              \n",
            "sahirmaharajj/electric-vehicle-population                               Full Electric Vehicle Dataset 2024                   6MB  2024-03-28 20:41:24            363         24  1.0              \n",
            "nbroad/gemma-rewrite-nbroad                                             gemma-rewrite-nbroad                                 8MB  2024-03-03 04:52:39           1121         84  1.0              \n",
            "nagajyothidakka/covid-19-global-dataset                                 COVID-19 GLOBAL-Dataset                             10KB  2024-03-09 16:54:05           1352         37  0.9411765        \n",
            "kanchana1990/bacteria-dataset                                           Bacteria Dataset                                     4KB  2024-03-27 09:19:48            387         22  1.0              \n",
            "arnavvvvv/spotify-music                                                 Top Spotify Songs                                   47KB  2024-03-06 05:20:29           7262         94  1.0              \n",
            "bhavikjikadara/mental-health-dataset                                    Mental Health Dataset                                2MB  2024-03-18 06:05:16           2139         43  1.0              \n",
            "abhinavshaw09/road-accidents-data                                       Road Accidents Data                                823KB  2024-03-27 05:13:24            597         28  1.0              \n",
            "shruthiiiee/asia-2023-air-report-2000-cities                            Asia's 2023 Air Report (2000+ Cities)               62KB  2024-03-27 07:51:52            388         23  0.9411765        \n",
            "jasmeet0516/largest-companies-in-world                                  Largest Companies in World                          47KB  2024-03-26 15:54:47            704         27  1.0              \n",
            "tarunrm09/climate-change-indicators                                     Climate change Indicators                           34KB  2024-02-22 08:53:54          10490        189  1.0              \n",
            "Downloading deepfake-dataset.zip to /content\n",
            "100% 5.42G/5.42G [05:05<00:00, 23.1MB/s]\n",
            "100% 5.42G/5.42G [05:05<00:00, 19.0MB/s]\n"
          ]
        }
      ],
      "source": [
        "! mkdir ~/.kaggle\n",
        "! cp kaggle.json ~/.kaggle/\n",
        "! chmod 600 ~/.kaggle/kaggle.json\n",
        "! kaggle datasets list\n",
        "!kaggle datasets download -d tusharpadhy/deepfake-dataset\n"
      ]
    },
    {
      "cell_type": "code",
      "execution_count": null,
      "metadata": {
        "id": "GTu0pz9Iv8b1"
      },
      "outputs": [],
      "source": [
        "! mkdir dataset\n",
        "! unzip deepfake-dataset.zip -d dataset"
      ]
    },
    {
      "cell_type": "code",
      "execution_count": null,
      "metadata": {
        "colab": {
          "base_uri": "https://localhost:8080/"
        },
        "id": "86ETvPBBlUke",
        "outputId": "340994cb-102b-44be-f8d6-26b3ae1d42b3"
      },
      "outputs": [
        {
          "output_type": "stream",
          "name": "stdout",
          "text": [
            "240002\n",
            "59428\n",
            "30905\n"
          ]
        }
      ],
      "source": [
        "import torch\n",
        "from torchvision import datasets, transforms\n",
        "from torch.utils.data import DataLoader\n",
        "\n",
        "transform = transforms.Compose([\n",
        "    transforms.Resize((224, 224)),  # Resize images to 224x224\n",
        "    transforms.ToTensor(),  # Convert images to PyTorch tensors\n",
        "    transforms.Normalize(mean=[0.485, 0.456, 0.406], std=[0.229, 0.224, 0.225])  # Normalize images\n",
        "])\n",
        "\n",
        "# Setup datasets\n",
        "train_dataset = datasets.ImageFolder('/content/dataset/train', transform=transform)\n",
        "val_dataset = datasets.ImageFolder('/content/dataset/valid', transform=transform)\n",
        "test_dataset = datasets.ImageFolder('/content/dataset/test', transform=transform)\n",
        "\n",
        "# Setup data loaders\n",
        "train_loader = DataLoader(train_dataset, batch_size=32, shuffle=True)\n",
        "val_loader = DataLoader(val_dataset, batch_size=32, shuffle=False)\n",
        "test_loader = DataLoader(test_dataset, batch_size=32, shuffle=False)\n",
        "\n",
        "print(len(train_dataset))\n",
        "print(len(val_dataset))\n",
        "print(len(test_dataset))"
      ]
    },
    {
      "cell_type": "markdown",
      "metadata": {
        "id": "t9P9BQ1UK1HE"
      },
      "source": [
        "GoogLeNet Architecture Cited from: https://medium.com/@AnasBrital98/googlenet-cnn-architecture-explained-inception-v1-225ae02513fd\n",
        "and https://github.com/KhuyenLE-maths/Implementation-of-GoogLeNet-on-Keras/blob/main/Implementation_of_GoogLeNet_on_Keras.ipynb\n",
        "\n",
        "ResNet50 Model Cited from: https://medium.com/@karuneshu21/how-to-resnet-in-pytorch-9acb01f36cf5\n",
        "\n",
        "\n",
        "Citations are also cite in the reference list in the final report, model structures and hyperparameters are tuned to suit our project.\n",
        "\n"
      ]
    },
    {
      "cell_type": "code",
      "execution_count": null,
      "metadata": {
        "colab": {
          "base_uri": "https://localhost:8080/"
        },
        "id": "PxWFgwmnt-Ij",
        "outputId": "2aacbb5c-4939-41c4-ac2a-cc2661aad4f4"
      },
      "outputs": [
        {
          "output_type": "stream",
          "name": "stdout",
          "text": [
            "Collecting torchview\n",
            "  Downloading torchview-0.2.6-py3-none-any.whl (25 kB)\n",
            "Installing collected packages: torchview\n",
            "Successfully installed torchview-0.2.6\n",
            "cuda\n"
          ]
        }
      ],
      "source": [
        "\n",
        "import torch\n",
        "\n",
        "# all nn libraries nn.layer, convs and loss functions\n",
        "import torch.nn as nn\n",
        "\n",
        "# Display Image\n",
        "from IPython.display import Image\n",
        "\n",
        "# visualisation\n",
        "!pip install torchview\n",
        "import torchvision\n",
        "from torchview import draw_graph\n",
        "\n",
        "\n",
        "# set device\n",
        "device = torch.device('cuda' if torch.cuda.is_available() else 'cpu')\n",
        "print(device)"
      ]
    },
    {
      "cell_type": "code",
      "execution_count": null,
      "metadata": {
        "id": "W3MKJ9kZjsTL"
      },
      "outputs": [],
      "source": [
        "# resnetX = (Num of channels, repetition, Bottleneck_expansion , Bottleneck_layer)\n",
        "model_parameters={}\n",
        "model_parameters['resnet50'] = ([64,128,256,512],[3,4,6,3],4,True)"
      ]
    },
    {
      "cell_type": "code",
      "execution_count": null,
      "metadata": {
        "colab": {
          "base_uri": "https://localhost:8080/"
        },
        "id": "BN9xkh2Yj3nL",
        "outputId": "676bab04-0a65-423d-e1fa-eb1a50be62a3"
      },
      "outputs": [
        {
          "output_type": "stream",
          "name": "stdout",
          "text": [
            "torch.Size([1, 256, 56, 56])\n"
          ]
        }
      ],
      "source": [
        "import torch\n",
        "import torch.nn as nn\n",
        "\n",
        "class Bottleneck(nn.Module):\n",
        "    def __init__(self, in_channels, intermediate_channels, expansion, is_Bottleneck, stride):\n",
        "        super(Bottleneck, self).__init__()\n",
        "\n",
        "        self.expansion = expansion\n",
        "        self.is_Bottleneck = is_Bottleneck\n",
        "        out_channels = intermediate_channels * expansion\n",
        "        self.identity = stride == 1 and in_channels == out_channels\n",
        "\n",
        "        if not self.identity:\n",
        "            self.projection = nn.Sequential(\n",
        "                nn.Conv2d(in_channels, out_channels, kernel_size=1, stride=stride, bias=False),\n",
        "                nn.BatchNorm2d(out_channels),\n",
        "            )\n",
        "        else:\n",
        "            self.projection = None\n",
        "\n",
        "        self.relu = nn.ReLU(inplace=True)\n",
        "\n",
        "        if is_Bottleneck:\n",
        "            self.conv1 = nn.Conv2d(in_channels, intermediate_channels, kernel_size=1, bias=False)\n",
        "            self.bn1 = nn.BatchNorm2d(intermediate_channels)\n",
        "            self.conv2 = nn.Conv2d(intermediate_channels, intermediate_channels, kernel_size=3, stride=stride, padding=1, bias=False)\n",
        "            self.bn2 = nn.BatchNorm2d(intermediate_channels)\n",
        "            self.conv3 = nn.Conv2d(intermediate_channels, out_channels, kernel_size=1, bias=False)\n",
        "            self.bn3 = nn.BatchNorm2d(out_channels)\n",
        "        else:\n",
        "            self.conv1 = nn.Conv2d(in_channels, intermediate_channels, kernel_size=3, stride=stride, padding=1, bias=False)\n",
        "            self.bn1 = nn.BatchNorm2d(intermediate_channels)\n",
        "            self.conv2 = nn.Conv2d(intermediate_channels, intermediate_channels, kernel_size=3, stride=1, padding=1, bias=False)\n",
        "            self.bn2 = nn.BatchNorm2d(intermediate_channels)\n",
        "\n",
        "    def forward(self, x):\n",
        "        identity = x\n",
        "\n",
        "        if self.is_Bottleneck:\n",
        "            out = self.relu(self.bn1(self.conv1(x)))\n",
        "            out = self.relu(self.bn2(self.conv2(out)))\n",
        "            out = self.bn3(self.conv3(out))\n",
        "        else:\n",
        "            out = self.relu(self.bn1(self.conv1(x)))\n",
        "            out = self.bn2(self.conv2(out))\n",
        "\n",
        "        if self.projection is not None:\n",
        "            identity = self.projection(identity)\n",
        "\n",
        "        out += identity\n",
        "        out = self.relu(out)\n",
        "\n",
        "        return out\n"
      ]
    },
    {
      "cell_type": "code",
      "execution_count": null,
      "metadata": {
        "id": "8ZoeJG82j6uQ"
      },
      "outputs": [],
      "source": [
        "import torch\n",
        "import torch.nn as nn\n",
        "\n",
        "class ResNet(nn.Module):\n",
        "    def __init__(self, resnet_variant, in_channels, num_classes=1):\n",
        "        super(ResNet, self).__init__()\n",
        "\n",
        "        self.channels_list = resnet_variant[0]\n",
        "        self.repetition_list = resnet_variant[1]\n",
        "        self.expansion = resnet_variant[2]\n",
        "        self.is_Bottleneck = resnet_variant[3]\n",
        "\n",
        "        # Initial Convolution and MaxPool\n",
        "        self.conv1 = nn.Conv2d(in_channels=in_channels, out_channels=64, kernel_size=7, stride=2, padding=3, bias=False)\n",
        "        self.batchnorm1 = nn.BatchNorm2d(64)\n",
        "        self.relu = nn.ReLU(inplace=True)\n",
        "        self.maxpool = nn.MaxPool2d(kernel_size=3, stride=2, padding=1)\n",
        "\n",
        "        # ResNet Blocks\n",
        "        self.block1 = self._make_blocks(64, self.channels_list[0], self.repetition_list[0], stride=1)\n",
        "        self.block2 = self._make_blocks(self.channels_list[0] * self.expansion, self.channels_list[1], self.repetition_list[1], stride=2)\n",
        "        self.block3 = self._make_blocks(self.channels_list[1] * self.expansion, self.channels_list[2], self.repetition_list[2], stride=2)\n",
        "        self.block4 = self._make_blocks(self.channels_list[2] * self.expansion, self.channels_list[3], self.repetition_list[3], stride=2)\n",
        "\n",
        "        # Adaptive Average Pooling and Final Fully Connected Layer\n",
        "        self.avgpool = nn.AdaptiveAvgPool2d((1, 1))\n",
        "        self.fc = nn.Linear(self.channels_list[3] * self.expansion, num_classes)\n",
        "\n",
        "    def forward(self, x):\n",
        "        x = self.conv1(x)\n",
        "        x = self.batchnorm1(x)\n",
        "        x = self.relu(x)\n",
        "        x = self.maxpool(x)\n",
        "\n",
        "        x = self.block1(x)\n",
        "        x = self.block2(x)\n",
        "        x = self.block3(x)\n",
        "        x = self.block4(x)\n",
        "\n",
        "        x = self.avgpool(x)\n",
        "        x = torch.flatten(x, 1)\n",
        "        x = self.fc(x)\n",
        "\n",
        "        return x\n",
        "\n",
        "    def _make_blocks(self, in_channels, out_channels, repetitions, stride):\n",
        "        blocks = []\n",
        "        # First block with specified stride\n",
        "        blocks.append(Bottleneck(in_channels, out_channels, self.expansion, self.is_Bottleneck, stride=stride))\n",
        "        # Remaining blocks with stride 1\n",
        "        for _ in range(1, repetitions):\n",
        "            blocks.append(Bottleneck(out_channels * self.expansion, out_channels, self.expansion, self.is_Bottleneck, stride=1))\n",
        "\n",
        "        return nn.Sequential(*blocks)\n"
      ]
    },
    {
      "cell_type": "code",
      "execution_count": null,
      "metadata": {
        "id": "buq4o36Kny9t"
      },
      "outputs": [],
      "source": [
        "import torch\n",
        "from torch import nn, optim\n",
        "from torch.utils.data import DataLoader\n",
        "from tqdm import tqdm  # Import tqdm\n",
        "\n",
        "def train_model(model, train_loader, val_loader, num_epochs=10):\n",
        "    device = torch.device(\"cuda\" if torch.cuda.is_available() else \"cpu\")\n",
        "    model.to(device)\n",
        "\n",
        "    # Define loss function and optimizer\n",
        "    criterion = nn.BCEWithLogitsLoss()\n",
        "    optimizer = optim.Adam(model.parameters(), lr=0.001)\n",
        "\n",
        "    # Dictionary to store training and validation losses and accuracies\n",
        "    history = {'train_loss': [], 'val_loss': [], 'train_acc': [], 'val_acc': []}\n",
        "\n",
        "    for epoch in range(num_epochs):\n",
        "        # Set model to training mode\n",
        "        model.train()\n",
        "        train_loss, train_correct, train_total = 0, 0, 0\n",
        "\n",
        "        # Training phase with progress bar\n",
        "        train_progress = tqdm(train_loader, desc=f'Epoch {epoch+1}/{num_epochs} [Training]')\n",
        "        for inputs, labels in train_progress:\n",
        "            inputs, labels = inputs.to(device), labels.to(device)\n",
        "\n",
        "            # Zero the parameter gradients\n",
        "            optimizer.zero_grad()\n",
        "\n",
        "            # Forward pass\n",
        "            outputs = model(inputs)\n",
        "            loss = criterion(outputs.squeeze(), labels.float())\n",
        "\n",
        "            # Backward pass and optimize\n",
        "            loss.backward()\n",
        "            optimizer.step()\n",
        "\n",
        "            # Update training loss and accuracy\n",
        "            train_loss += loss.item() * inputs.size(0)\n",
        "            preds = torch.sigmoid(outputs.squeeze()) > 0.5\n",
        "            train_correct += (preds == labels).sum().item()\n",
        "            train_total += labels.size(0)\n",
        "\n",
        "            # Update progress bar with the current loss\n",
        "            train_progress.set_postfix(loss=loss.item())\n",
        "\n",
        "        # Validation phase with progress bar\n",
        "        val_loss, val_correct, val_total = 0, 0, 0\n",
        "        val_progress = tqdm(val_loader, desc=f'Epoch {epoch+1}/{num_epochs} [Validation]', leave=True)\n",
        "        with torch.no_grad():\n",
        "            model.eval()\n",
        "            for inputs, labels in val_progress:\n",
        "                inputs, labels = inputs.to(device), labels.to(device)\n",
        "\n",
        "                outputs = model(inputs)\n",
        "                loss = criterion(outputs.squeeze(), labels.float())\n",
        "\n",
        "                # Update validation loss and accuracy\n",
        "                val_loss += loss.item() * inputs.size(0)\n",
        "                preds = torch.sigmoid(outputs.squeeze()) > 0.5\n",
        "                val_correct += (preds == labels).sum().item()\n",
        "                val_total += labels.size(0)\n",
        "\n",
        "        # Calculate average loss and accuracy over the epoch\n",
        "        train_loss /= train_total\n",
        "        train_acc = train_correct / train_total\n",
        "        val_loss /= val_total\n",
        "        val_acc = val_correct / val_total\n",
        "\n",
        "        # Print epoch summary\n",
        "        print(f'\\nEpoch {epoch+1}/{num_epochs}, Train Loss: {train_loss:.4f}, Train Acc: {train_acc:.4f}, Val Loss: {val_loss:.4f}, Val Acc: {val_acc:.4f}')\n",
        "\n",
        "        # Update history dictionary with the metrics of the current epoch\n",
        "        history['train_loss'].append(train_loss)\n",
        "        history['val_loss'].append(val_loss)\n",
        "        history['train_acc'].append(train_acc)\n",
        "        history['val_acc'].append(val_acc)\n",
        "\n",
        "    return history\n"
      ]
    },
    {
      "cell_type": "code",
      "execution_count": null,
      "metadata": {
        "colab": {
          "base_uri": "https://localhost:8080/"
        },
        "id": "UW4oCU1En1UT",
        "outputId": "16f9956a-692e-4048-c86b-349d97adf49b"
      },
      "outputs": [
        {
          "output_type": "stream",
          "name": "stderr",
          "text": [
            "Epoch 1/10 [Training]: 100%|██████████| 7501/7501 [14:48<00:00,  8.44it/s, loss=0.825]\n",
            "Epoch 1/10 [Validation]: 100%|██████████| 1858/1858 [02:44<00:00, 11.31it/s]\n"
          ]
        },
        {
          "output_type": "stream",
          "name": "stdout",
          "text": [
            "\n",
            "Epoch 1/10, Train Loss: 0.5009, Train Acc: 0.7300, Val Loss: 0.3425, Val Acc: 0.8452\n"
          ]
        },
        {
          "output_type": "stream",
          "name": "stderr",
          "text": [
            "Epoch 2/10 [Training]: 100%|██████████| 7501/7501 [14:43<00:00,  8.49it/s, loss=0.597]\n",
            "Epoch 2/10 [Validation]: 100%|██████████| 1858/1858 [02:40<00:00, 11.60it/s]\n"
          ]
        },
        {
          "output_type": "stream",
          "name": "stdout",
          "text": [
            "\n",
            "Epoch 2/10, Train Loss: 0.2391, Train Acc: 0.8990, Val Loss: 0.2278, Val Acc: 0.9050\n"
          ]
        },
        {
          "output_type": "stream",
          "name": "stderr",
          "text": [
            "Epoch 3/10 [Training]: 100%|██████████| 7501/7501 [14:40<00:00,  8.52it/s, loss=0.223]\n",
            "Epoch 3/10 [Validation]: 100%|██████████| 1858/1858 [02:44<00:00, 11.32it/s]\n"
          ]
        },
        {
          "output_type": "stream",
          "name": "stdout",
          "text": [
            "\n",
            "Epoch 3/10, Train Loss: 0.1528, Train Acc: 0.9386, Val Loss: 0.1681, Val Acc: 0.9315\n"
          ]
        },
        {
          "output_type": "stream",
          "name": "stderr",
          "text": [
            "Epoch 4/10 [Training]: 100%|██████████| 7501/7501 [14:46<00:00,  8.47it/s, loss=0.0356]\n",
            "Epoch 4/10 [Validation]: 100%|██████████| 1858/1858 [02:40<00:00, 11.57it/s]\n"
          ]
        },
        {
          "output_type": "stream",
          "name": "stdout",
          "text": [
            "\n",
            "Epoch 4/10, Train Loss: 0.1104, Train Acc: 0.9563, Val Loss: 0.1471, Val Acc: 0.9398\n"
          ]
        },
        {
          "output_type": "stream",
          "name": "stderr",
          "text": [
            "Epoch 5/10 [Training]: 100%|██████████| 7501/7501 [14:43<00:00,  8.49it/s, loss=0.000826]\n",
            "Epoch 5/10 [Validation]: 100%|██████████| 1858/1858 [02:41<00:00, 11.48it/s]\n"
          ]
        },
        {
          "output_type": "stream",
          "name": "stdout",
          "text": [
            "\n",
            "Epoch 5/10, Train Loss: 0.0832, Train Acc: 0.9679, Val Loss: 0.1250, Val Acc: 0.9521\n"
          ]
        },
        {
          "output_type": "stream",
          "name": "stderr",
          "text": [
            "Epoch 6/10 [Training]: 100%|██████████| 7501/7501 [14:45<00:00,  8.47it/s, loss=3.8e-5]\n",
            "Epoch 6/10 [Validation]: 100%|██████████| 1858/1858 [02:40<00:00, 11.61it/s]\n"
          ]
        },
        {
          "output_type": "stream",
          "name": "stdout",
          "text": [
            "\n",
            "Epoch 6/10, Train Loss: 0.0652, Train Acc: 0.9747, Val Loss: 0.1311, Val Acc: 0.9504\n"
          ]
        },
        {
          "output_type": "stream",
          "name": "stderr",
          "text": [
            "Epoch 7/10 [Training]: 100%|██████████| 7501/7501 [14:42<00:00,  8.50it/s, loss=0.00155]\n",
            "Epoch 7/10 [Validation]: 100%|██████████| 1858/1858 [02:40<00:00, 11.57it/s]\n"
          ]
        },
        {
          "output_type": "stream",
          "name": "stdout",
          "text": [
            "\n",
            "Epoch 7/10, Train Loss: 0.0530, Train Acc: 0.9794, Val Loss: 0.1400, Val Acc: 0.9485\n"
          ]
        },
        {
          "output_type": "stream",
          "name": "stderr",
          "text": [
            "Epoch 8/10 [Training]: 100%|██████████| 7501/7501 [14:44<00:00,  8.48it/s, loss=0.00152]\n",
            "Epoch 8/10 [Validation]: 100%|██████████| 1858/1858 [02:43<00:00, 11.35it/s]\n"
          ]
        },
        {
          "output_type": "stream",
          "name": "stdout",
          "text": [
            "\n",
            "Epoch 8/10, Train Loss: 0.0437, Train Acc: 0.9831, Val Loss: 0.1136, Val Acc: 0.9605\n"
          ]
        },
        {
          "output_type": "stream",
          "name": "stderr",
          "text": [
            "Epoch 9/10 [Training]: 100%|██████████| 7501/7501 [14:44<00:00,  8.48it/s, loss=0.00407]\n",
            "Epoch 9/10 [Validation]: 100%|██████████| 1858/1858 [02:43<00:00, 11.39it/s]\n"
          ]
        },
        {
          "output_type": "stream",
          "name": "stdout",
          "text": [
            "\n",
            "Epoch 9/10, Train Loss: 0.0363, Train Acc: 0.9859, Val Loss: 0.1095, Val Acc: 0.9646\n"
          ]
        },
        {
          "output_type": "stream",
          "name": "stderr",
          "text": [
            "Epoch 10/10 [Training]: 100%|██████████| 7501/7501 [14:40<00:00,  8.51it/s, loss=0.0138]\n",
            "Epoch 10/10 [Validation]: 100%|██████████| 1858/1858 [02:44<00:00, 11.30it/s]"
          ]
        },
        {
          "output_type": "stream",
          "name": "stdout",
          "text": [
            "\n",
            "Epoch 10/10, Train Loss: 0.0309, Train Acc: 0.9881, Val Loss: 0.1083, Val Acc: 0.9648\n"
          ]
        },
        {
          "output_type": "stream",
          "name": "stderr",
          "text": [
            "\n"
          ]
        }
      ],
      "source": [
        "\n",
        "# Define the model\n",
        "architecture = 'resnet50'\n",
        "params = model_parameters[architecture]\n",
        "model = ResNet(params, in_channels=3, num_classes=1)\n",
        "\n",
        "# Number of epochs\n",
        "num_epochs = 10\n",
        "\n",
        "# Train the model\n",
        "history = train_model(model, train_loader, val_loader, num_epochs=num_epochs)\n"
      ]
    },
    {
      "cell_type": "code",
      "source": [
        "# Plotting losses\n",
        "plt.figure(figsize=(12, 5))\n",
        "plt.subplot(1, 2, 1)\n",
        "plt.plot(history['train_loss'], label='Training Loss')\n",
        "plt.plot(history['val_loss'], label='Validation Loss')\n",
        "plt.title('Training and Validation Loss')\n",
        "plt.xlabel('Epochs')\n",
        "plt.ylabel('Loss')\n",
        "plt.legend()\n",
        "\n",
        "# Plotting accuracies\n",
        "plt.subplot(1, 2, 2)\n",
        "plt.plot(history['train_acc'], label='Training Accuracy')\n",
        "plt.plot(history['val_acc'], label='Validation Accuracy')\n",
        "plt.title('Training and Validation Accuracy')\n",
        "plt.xlabel('Epochs')\n",
        "plt.ylabel('Accuracy')\n",
        "plt.legend()\n",
        "\n",
        "plt.tight_layout()\n",
        "plt.show()"
      ],
      "metadata": {
        "colab": {
          "base_uri": "https://localhost:8080/",
          "height": 435
        },
        "id": "DPm7MEbSi3QG",
        "outputId": "51c4858a-c7ea-4ce9-dc30-b99f99170192"
      },
      "execution_count": null,
      "outputs": [
        {
          "output_type": "display_data",
          "data": {
            "text/plain": [
              "<Figure size 1200x500 with 2 Axes>"
            ],
            "image/png": "[encoded data removed]"
          },
          "metadata": {}
        }
      ]
    },
    {
      "cell_type": "code",
      "source": [
        "def evaluate_model(model, criterion, test_loader, device):\n",
        "    model.eval()  # Set the model to evaluation mode\n",
        "    test_loss = 0\n",
        "    correct = 0\n",
        "    total = 0\n",
        "\n",
        "    with torch.no_grad():  # No gradients required for evaluation, which saves memory and computations\n",
        "        for batch in test_loader:\n",
        "            inputs, targets = batch\n",
        "            inputs, targets = inputs.to(device), targets.to(device)\n",
        "\n",
        "            outputs = model(inputs)\n",
        "            loss = criterion(outputs, targets.unsqueeze(1).float())  # Assuming binary classification with a single output unit\n",
        "            test_loss += loss.item()\n",
        "\n",
        "            # For binary classification, using a threshold of 0.5\n",
        "            predicted = (outputs > 0.5).float()  # Using sigmoid threshold at 0.5\n",
        "            total += targets.size(0)\n",
        "            correct += (predicted == targets.unsqueeze(1)).sum().item()\n",
        "\n",
        "    # Calculate average loss and accuracy\n",
        "    test_loss /= len(test_loader.dataset)\n",
        "    accuracy = correct / total\n",
        "\n",
        "    return test_loss, accuracy\n"
      ],
      "metadata": {
        "id": "N2N7CErSeTRA"
      },
      "execution_count": null,
      "outputs": []
    },
    {
      "cell_type": "code",
      "source": [
        "criterion = nn.BCEWithLogitsLoss()\n",
        "evaluate_model(model, criterion, test_loader, device)"
      ],
      "metadata": {
        "colab": {
          "base_uri": "https://localhost:8080/"
        },
        "id": "trbm7bRPefOM",
        "outputId": "b5f9ff81-4bec-4a5b-a7e8-97ace7ee2d5a"
      },
      "execution_count": null,
      "outputs": [
        {
          "output_type": "stream",
          "name": "stdout",
          "text": [
            "0.1081 0.9632\n"
          ]
        }
      ]
    },
    {
      "cell_type": "code",
      "source": [
        "%%shell\n",
        "jupyter nbconvert --to html /content/APS_360_project.ipynb"
      ],
      "metadata": {
        "colab": {
          "base_uri": "https://localhost:8080/"
        },
        "id": "Or94qpgUwNVF",
        "outputId": "5c95bdbb-239b-4cbb-b66c-1f2428d17b68"
      },
      "execution_count": null,
      "outputs": [
        {
          "output_type": "stream",
          "name": "stdout",
          "text": [
            "[NbConvertApp] Converting notebook /content/APS_360_project.ipynb to html\n",
            "[NbConvertApp] Writing 979842 bytes to /content/APS_360_project.html\n"
          ]
        },
        {
          "output_type": "execute_result",
          "data": {
            "text/plain": []
          },
          "metadata": {},
          "execution_count": 16
        }
      ]
    }
  ],
  "metadata": {
    "accelerator": "GPU",
    "colab": {
      "gpuType": "T4",
      "machine_shape": "hm",
      "provenance": []
    },
    "kernelspec": {
      "display_name": "Python 3",
      "name": "python3"
    },
    "language_info": {
      "name": "python"
    }
  },
  "nbformat": 4,
  "nbformat_minor": 0
}